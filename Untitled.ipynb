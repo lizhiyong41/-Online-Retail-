{
 "cells": [
  {
   "cell_type": "code",
   "execution_count": 5,
   "id": "5b801f3b-6c5e-4c53-9ace-1a92a4399ec1",
   "metadata": {},
   "outputs": [
    {
     "name": "stderr",
     "output_type": "stream",
     "text": [
      "C:\\Users\\李智勇\\AppData\\Local\\Temp\\ipykernel_6268\\365851887.py:17: FutureWarning: The default of observed=False is deprecated and will be changed to True in a future version of pandas. Pass observed=False to retain current behavior or observed=True to adopt the future default and silence this warning.\n",
      "  rfm=df.groupby('CustomerID').agg({'InvoiceDate':lambda x:(current_data-x.max()).days,\n"
     ]
    },
    {
     "name": "stdout",
     "output_type": "stream",
     "text": [
      "           用户  最后一次消费距今天数  订单数    总消费金额  R_score  F_score  M_Score  \\\n",
      "0     12346.0         325    2     2.08        1        1        1   \n",
      "1     12347.0           1  182   481.21        5        5        5   \n",
      "2     12348.0          74   31   178.71        2        3        3   \n",
      "3     12349.0          18   73   605.10        4        4        5   \n",
      "4     12350.0         309   17    65.30        1        2        2   \n",
      "...       ...         ...  ...      ...      ...      ...      ...   \n",
      "4367  18280.0         277   10    47.65        1        1        2   \n",
      "4368  18281.0         180    7    39.36        1        1        1   \n",
      "4369  18282.0           7   13    62.68        5        1        2   \n",
      "4370  18283.0           3  756  1220.93        5        5        5   \n",
      "4371  18287.0          42   70   104.55        3        4        3   \n",
      "\n",
      "     RFM_segment RFM_Group  \n",
      "0            111      流失用户  \n",
      "1            555     高价值用户  \n",
      "2            233      普通用户  \n",
      "3            445     高价值用户  \n",
      "4            122      流失用户  \n",
      "...          ...       ...  \n",
      "4367         112      流失用户  \n",
      "4368         111      流失用户  \n",
      "4369         512      普通用户  \n",
      "4370         555     高价值用户  \n",
      "4371         343      普通用户  \n",
      "\n",
      "[4372 rows x 9 columns]\n",
      "         最后一次消费距今天数          订单数         总消费金额    用户\n",
      "Cluster                                             \n",
      "0         39.126722   107.752066    333.020488  3267\n",
      "1        246.080219    27.680948     99.546136  1097\n",
      "2         69.250000   195.250000  25688.537500     4\n",
      "3          1.000000  5914.000000  26971.442500     4\n"
     ]
    },
    {
     "data": {
      "image/png": "[encoded data removed]",
      "text/plain": [
       "<Figure size 1000x600 with 1 Axes>"
      ]
     },
     "metadata": {},
     "output_type": "display_data"
    }
   ],
   "source": [
    "import pandas as pd\n",
    "import numpy as np\n",
    "import matplotlib.pyplot as plt\n",
    "import seaborn as sns\n",
    "from datetime import datetime\n",
    "from sklearn.preprocessing import StandardScaler#StandardScaler：用于对数据进行标准化（均值为0，方差为1），消除不同量纲对聚类的影响\n",
    "from sklearn.cluster import KMeans#KMeans：K-Means聚类算法，用于将用户划分为不同的群组。\n",
    "plt.rcParams['font.sans-serif'] = ['SimHei'] #设置全局字体为支持中文的字体\n",
    "df = pd.read_csv('OnlineRetail.csv', encoding='latin1',parse_dates=['InvoiceDate'])\n",
    "#通过 encoding 参数指定文件的实际编码格式\n",
    "#将CSV文件中的指定列（InvoiceDate）自动解析为日期时间类型（datetime64）\n",
    "current_data=df['InvoiceDate'].max()\n",
    "df.dropna(subset=['Description','CustomerID'],inplace=True)\n",
    "# inplace=True-直接修改原 DataFrame，而不是返回新对象\n",
    "df['CustomerID']=df['CustomerID'].astype('category')\n",
    "#将 CustomerID 列从字符串（object 类型）转换为 分类类型（category），优化内存、加速分类\n",
    "rfm=df.groupby('CustomerID').agg({'InvoiceDate':lambda x:(current_data-x.max()).days,\n",
    "                                  #lambda x: 对每个用户的 InvoiceDate 列进行操作，x 是该用户的所有订单日期组成的Series\n",
    "                                  #.days: 将时间差转换为天数（例如 5 天）\n",
    "                                 'InvoiceNo':'count',\n",
    "                                 'UnitPrice':'sum'}).reset_index()\n",
    "rfm.columns=['用户', '最后一次消费距今天数', '订单数', '总消费金额']\n",
    "rfm=rfm[rfm['最后一次消费距今天数']>=0]\n",
    "rfm['R_score']=pd.qcut(rfm['最后一次消费距今天数'],q=5,labels=[5,4,3,2,1],duplicates='drop')\n",
    "#参数 duplicates='drop' 的作用是 当数据中存在重复的分箱边界时，自动删除重复的边界以生成有效分箱。\n",
    "rfm['F_score']=pd.qcut(rfm['订单数'],q=5,labels=[1,2,3,4,5],duplicates='drop')\n",
    "rfm['M_Score'] = pd.qcut(rfm['总消费金额'], q=5, labels=[1,2,3,4,5], duplicates='drop')\n",
    "rfm['R_score']=rfm['R_score'].astype(int)\n",
    "rfm['F_score']=rfm['F_score'].astype(int)\n",
    "rfm['M_Score'] = rfm['M_Score'].astype(int)\n",
    "rfm['RFM_segment']=rfm['R_score'].astype(str)+rfm['F_score'].astype(str)+rfm['M_Score'].astype(str)\n",
    "def assign_rfm_group(row):\n",
    "    if row['R_score']>=4 and row['F_score']>=4 and row['M_Score']>=4:\n",
    "        return '高价值用户'\n",
    "    elif row['R_score']>=3 and row['M_Score']>=4:\n",
    "        return '潜力用户'\n",
    "    elif row['R_score']<=2 and row['F_score']<=2:\n",
    "        return '流失用户'\n",
    "    else:\n",
    "        return '普通用户'\n",
    "rfm['RFM_Group']=rfm.apply(assign_rfm_group,axis=1)\n",
    "print(rfm)\n",
    "X=rfm[['最后一次消费距今天数','订单数','总消费金额']]\n",
    "scaler=StandardScaler()#StandardScaler()：初始化标准化器\n",
    "X_scaler=scaler.fit_transform(X)#fit_transform(X)：对数据进行标准化\n",
    "kmeans=KMeans(n_clusters=4,random_state=42)\n",
    "#KMeans(n_clusters=4)：初始化K-Means模型，设定聚类数 K=4\n",
    "#random_state=42：固定随机种子，确保结果可复现\n",
    "rfm['Cluster']=kmeans.fit_predict(X_scaler)#fit_predict(X_scaled)：对标准化后的数据 X_scaled 进行聚类，返回每个样本所属的簇标签（0, 1, 2, 3）。\n",
    "cluster_summary=rfm.groupby('Cluster').agg({'最后一次消费距今天数':'mean',\n",
    "                                           '订单数':'mean',\n",
    "                                           '总消费金额':'mean',\n",
    "                                           '用户':'count'})\n",
    "print(cluster_summary)\n",
    "plt.figure(figsize=(10,6))#创建一个新的画布（Figure），并设置其尺寸\n",
    "sns.countplot(x='RFM_Group',data=rfm)#绘制分类变量的计数条形图，显示不同用户分群（RFM_Group）的数量分布。\n",
    "plt.title('RFM用户分群分布')\n",
    "plt.savefig(\"sales_trend.png\", dpi=300, bbox_inches=\"tight\")\n",
    "plt.show()#在脚本中：必须调用此函数才会显示图表。"
   ]
  },
  {
   "cell_type": "code",
   "execution_count": null,
   "id": "7ddaa713-dac1-4d32-a182-3b3dd9ec4062",
   "metadata": {},
   "outputs": [],
   "source": []
  }
 ],
 "metadata": {
  "kernelspec": {
   "display_name": "Python 3 (ipykernel)",
   "language": "python",
   "name": "python3"
  },
  "language_info": {
   "codemirror_mode": {
    "name": "ipython",
    "version": 3
   },
   "file_extension": ".py",
   "mimetype": "text/x-python",
   "name": "python",
   "nbconvert_exporter": "python",
   "pygments_lexer": "ipython3",
   "version": "3.12.3"
  }
 },
 "nbformat": 4,
 "nbformat_minor": 5
}
